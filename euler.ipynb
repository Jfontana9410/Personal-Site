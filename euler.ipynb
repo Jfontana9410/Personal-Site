{
 "cells": [
  {
   "cell_type": "markdown",
   "metadata": {},
   "source": [
    "<p>By listing the first six prime numbers: 2, 3, 5, 7, 11, and 13, we can see that the 6th prime is 13.</p>\n",
    "<p>What is the 10,001st prime number?</p>"
   ]
  },
  {
   "cell_type": "code",
   "execution_count": 1,
   "metadata": {},
   "outputs": [
    {
     "data": {
      "text/plain": [
       "4"
      ]
     },
     "execution_count": 1,
     "metadata": {},
     "output_type": "execute_result"
    }
   ],
   "source": [
    "sp=2\n",
    "cnt = 1\n",
    "while cnt <= 10001:\n",
    "    primeflag = 0\n",
    "    for j in range(2,sp):\n",
    "        if(sp%j == 0):\n",
    "            primeflag = 1\n",
    "            break;\n",
    "    if(primeflag == 1):\n",
    "        pass\n",
    "    else:\n",
    "        print(cnt ,sp)\n",
    "        cnt = cnt +1\n",
    "    sp =sp+1"
   ]
  },
  {
   "cell_type": "code",
   "execution_count": null,
   "metadata": {},
   "outputs": [],
   "source": [
    "I got the above algorithm from [StackOverflow](https://stackoverflow.com/questions/40205471/find-the-10001st-prime).\n",
    "This is coded in python. Why does this work? Let's go through it line by line.\n",
    "\n",
    "We start with sp=2 because that is the first prime number. \n",
    "Then we set the code to count primes it flags until it reaches the 10,001th one.\n",
    "\n",
    "We then increase the value of the sp value and check to see if there is a remainder \n",
    "when dividing the current sp value by previous primes.\n",
    "\n",
    "If there is a remainder then the value is saved as a prime, \n",
    "and the loop repeats until 10,001 are flagged as primes\n",
    "\n",
    "If there is no remainder the value is tossed out, and a new value is checked by \n",
    "increasing by 1 and running the loop again.\n",
    "\n",
    "The program supplies 104743 which is a prime number and is indeed the 10001th prime"
   ]
  }
 ],
 "metadata": {
  "kernelspec": {
   "display_name": "Python 3",
   "language": "python",
   "name": "python3"
  },
  "language_info": {
   "codemirror_mode": {
    "name": "ipython",
    "version": 3
   },
   "file_extension": ".py",
   "mimetype": "text/x-python",
   "name": "python",
   "nbconvert_exporter": "python",
   "pygments_lexer": "ipython3",
   "version": "3.10.13"
  }
 },
 "nbformat": 4,
 "nbformat_minor": 2
}
